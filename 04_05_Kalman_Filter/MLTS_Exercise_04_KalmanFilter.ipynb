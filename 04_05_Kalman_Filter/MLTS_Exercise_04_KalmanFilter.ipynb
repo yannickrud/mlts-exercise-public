{
 "cells": [
  {
   "cell_type": "markdown",
   "metadata": {},
   "source": [
    "<h1>MLTS Exercise 04 - Kalman Filter</h1>"
   ]
  },
  {
   "cell_type": "markdown",
   "metadata": {},
   "source": [
    "## Welcome to Pixel-World\n",
    "\n",
    "This is Bob.  \n",
    "\n",
    "<img src=\"./utils/Bob.png\" alt=\"Map\" width=\"100\"/>\n",
    "\n",
    "Bob is on an adventure and traveling through Pixel-World to find and collect small monsters. As he does not want to get lost on his way, he takes his GPS device with him. Unfortunately, the device can sometimes be unreliable and shows him the wrong position. Therefore he needs an object tracking application which can predict the real path he is taking.  \n",
    "\n",
    "Your goal is to implement this application and help Bob traverse the following area:  \n",
    " \n",
    "<img src=\"./utils/Map.png\" alt=\"Map\" width=\"500\"/>\n",
    "\n",
    "The images of this exercie were generated with: [Pokemon Styl Map Generator](https://screensmith.itch.io/pokemon-style-map-generator)"
   ]
  },
  {
   "cell_type": "markdown",
   "metadata": {},
   "source": [
    "First, lets start with some imports. "
   ]
  },
  {
   "cell_type": "code",
   "execution_count": null,
   "metadata": {},
   "outputs": [],
   "source": [
    "%load_ext autoreload\n",
    "%autoreload 2\n",
    "\n",
    "# import packages\n",
    "import numpy as np\n",
    "import matplotlib.pyplot as plt\n",
    "from filterpy import kalman"
   ]
  },
  {
   "cell_type": "code",
   "execution_count": null,
   "metadata": {},
   "outputs": [],
   "source": [
    "# import helper functions\n",
    "from utils.helpers import setup_animations\n",
    "from utils.functions import create_movement"
   ]
  },
  {
   "cell_type": "markdown",
   "metadata": {},
   "source": [
    "To have an interactive display of your results, run this cell."
   ]
  },
  {
   "cell_type": "code",
   "execution_count": null,
   "metadata": {},
   "outputs": [],
   "source": [
    "# set display parameters\n",
    "plt.rcParams[\"animation.html\"] = \"jshtml\"\n",
    "plt.rcParams['figure.dpi'] = 150\n",
    "plt.rcParams['animation.embed_limit'] = 200\n",
    "plt.ioff()\n",
    "pass"
   ]
  },
  {
   "cell_type": "markdown",
   "metadata": {},
   "source": [
    "## Task: Implement a Kalman Filter\n",
    "\n",
    "To help Bob, let's first implement the Kalman filtering for a simple object tracking application.  \n",
    "Kalman filter (KF) is an optimal estimation problem where we have linear and Gaussian systems. These two properties are central to the KF, since they allow us to estimate the integrals and other computations analytically. \n",
    "\n",
    "The system includes prediction and observation models. In a tracking object problem, the prediction model can be defined by e.g. physical rules that give the relation between position of the object and its acceleration during time. Observations can be obtained by a type of a sensor, e.g. GPS, that can indicate the position of the object. It is easy to imagine that for a real-world application, we have to take into account noisy models. In KF, we model the noises for both models with Gaussian density (distribution). We are interested to combine these two models (sources of information), in order to optimally estimate the object position.\n",
    "\n",
    "KF is a probabilistic method. We have to estimate several probability densities such as predictive and filtering density. The good news is that, since we assumed the system is Gaussian and linear, all these densities become a Gaussian density. One can define a Gaussian density by estimating its first two moments namely mean and variance.  Hence, the computation of, e.g. filtering density at a certain point, boils down to the computation of its mean and variance.\n",
    "\n",
    "The KF algorithm is recursive. We compute the required densities (predictive and filtering density) once at a time for the whole trajectory of an object.\n",
    "\n",
    "This was a brief intuition behind the KF. For finding the exact explanation or formulation, please refer to your lecture slides or to the book of “Machine learning: a probabilistic perspective” by Kevin Murphy."
   ]
  },
  {
   "cell_type": "markdown",
   "metadata": {},
   "source": [
    "To implement the Kalman Filter, we will be utilizing a package called [`FilterPy`](https://filterpy.readthedocs.io/en/latest/).  \n",
    "\n",
    "In FilterPy, you have to first set the initial state and covariance, then the process and measurement noise as well as the state and measurement transition matrices. Then you need to do the recursive steps on the given observations as seen in the lecture or exercise slides. Utilize the predefined function below."
   ]
  },
  {
   "cell_type": "code",
   "execution_count": null,
   "metadata": {},
   "outputs": [],
   "source": [
    "def kalman_filter(zs: np.ndarray, F: np.ndarray, H: np.ndarray, Q: np.ndarray, R: np.ndarray, initMu: np.ndarray, initCov: np.ndarray) -> tuple[np.ndarray, np.ndarray]:\n",
    "    \"\"\"Kalman Filter for a simplified process.\n",
    "\n",
    "    Args:\n",
    "        zs (np.ndarray): observations rowise\n",
    "        F (np.ndarray): state relation matrix from k-1 to k\n",
    "        H (np.ndarray): state to observation relation matrix\n",
    "        Q (np.ndarray): process noise covariance matrix\n",
    "        R (np.ndarray): measurement noise covariance matrix\n",
    "        initMu (np.ndarray): initial estimate of a posteriori expectation\n",
    "        initCov (np.ndarray): initial estimate of a posteriori covariance matrix\n",
    "\n",
    "    Returns:\n",
    "        (np.ndarray,np.ndarray): posteriori predictions, posteriori error covs\n",
    "    \"\"\"\n",
    "    # TODO\n",
    "    return None, None"
   ]
  },
  {
   "cell_type": "markdown",
   "metadata": {},
   "source": [
    "## Test your object tracking application\n",
    "\n",
    "To test if your implemented object tracking application (i.e. Kalman Filter), we let Bob walk through the shown area, starting from various postions and taking different paths. We can also adjust the measurements of the GPS device with different levels of noise.\n",
    "\n",
    "Let's start with some general fixed parameters:"
   ]
  },
  {
   "cell_type": "code",
   "execution_count": null,
   "metadata": {},
   "outputs": [],
   "source": [
    "# set parameters\n",
    "config = {\n",
    "    'numMeasurements': 21,  # number of measurements over the distance\n",
    "    'distanceStartEnd': 21,  # distance tracking object travels\n",
    "    'msPerTimestep': 500,  # Number of ms per timestep\n",
    "    'seed': 1234  # Random seed\n",
    "}"
   ]
  },
  {
   "cell_type": "markdown",
   "metadata": {},
   "source": [
    "These parameters define the ground truth movement and the observations the model will see.  \n",
    "You should play around with those values and test out different combinations."
   ]
  },
  {
   "cell_type": "code",
   "execution_count": null,
   "metadata": {},
   "outputs": [],
   "source": [
    "config = {\n",
    "    **config,\n",
    "    'model': 'movement_1',  # Movement model. Can be [movement_1, movement_2, movement_3]\n",
    "    'varObservations': 0.0,  # Variance in x and y direction. Possible values [0, 1]\n",
    "    'processNoiseScaling': 0.0  # Scaling for process noise model in filter. Possible values [0, 1]\n",
    "}"
   ]
  },
  {
   "cell_type": "markdown",
   "metadata": {},
   "source": [
    "Next, here are some parameters that influence your results and your model. Choose these values wisely:"
   ]
  },
  {
   "cell_type": "code",
   "execution_count": null,
   "metadata": {},
   "outputs": [],
   "source": [
    "config = {\n",
    "    **config,\n",
    "    # TODO: choose the parameters\n",
    "    'observationNoiseScaling': None,  # Scaling for observation noise model in filter.\n",
    "    'initMu': None,  # Initial value for state (prior)\n",
    "    'initCov': None,  # Initial value for covariance (prior)\n",
    "}"
   ]
  },
  {
   "cell_type": "markdown",
   "metadata": {},
   "source": [
    "Now, we set up the function for plotting Bobs movement. `data_for_plotting` take the configs defined above, generates the movement of Bob and then runs the object tracking algorithm you implemented.  \n",
    "\n",
    "<b>Be carefull that you correctly set up and pass the right parameters for the object tracking functions!</b>"
   ]
  },
  {
   "cell_type": "code",
   "execution_count": null,
   "metadata": {},
   "outputs": [],
   "source": [
    "def data_for_plotting(parameters: dict) -> tuple[np.ndarray, np.ndarray, np.ndarray]:\n",
    "    \"\"\"Generate the data, predict the movement and plot it.\n",
    "\n",
    "    Args:\n",
    "        parameters (dict): Parameters.\n",
    "\n",
    "    Returns:\n",
    "        tuple[np.ndarray, np.ndarray, np.ndarray]: Result of the filter algorithm, ground truth movement, observations of the movement.\n",
    "    \"\"\"\n",
    "    # set up everything\n",
    "    np.random.seed(parameters['seed'])\n",
    "    samplingPeriod = parameters['distanceStartEnd'] / parameters['numMeasurements']\n",
    "\n",
    "    # sample some observations and ground truth movement\n",
    "    observation, referenceCurve = create_movement(parameters['model'], parameters['numMeasurements'],\n",
    "                                                  samplingPeriod, parameters['varObservations'], parameters['processNoiseScaling'])\n",
    "\n",
    "    # initialize the state transition matrix, transforms the state into the next state\n",
    "    # It follows the newton formulars for movement with a continous velocity\n",
    "    # TODO\n",
    "    A = None\n",
    "\n",
    "    # initialize the measurement matrix, transforms the state to the predicted observations\n",
    "    # TODO\n",
    "    H = None\n",
    "\n",
    "    # initialize the measurement and process noise matrices\n",
    "    # TODO\n",
    "    Q = None\n",
    "    R = None\n",
    "\n",
    "    # this is the kalman filter you implemented\n",
    "    # TODO\n",
    "    res = kalman_filter(observation, ...)\n",
    "\n",
    "    return res, referenceCurve, observation"
   ]
  },
  {
   "cell_type": "markdown",
   "metadata": {},
   "source": [
    "### Run Bob, Run!\n",
    "\n",
    "We will now animate the movement of Bob. The following graph shows his x and y positions over time. The black line is his true movement while the green dots are the observations by the GPS device.  \n",
    "In red you see the predictions of your tracking algorithm with the uncertainty as a circle around it. Use the buttons below to start and stop the animation."
   ]
  },
  {
   "cell_type": "code",
   "execution_count": null,
   "metadata": {},
   "outputs": [],
   "source": [
    "aniFiltered = setup_animations(data_for_plotting(config), config)\n",
    "plt.close('all')\n",
    "aniFiltered"
   ]
  },
  {
   "cell_type": "markdown",
   "metadata": {},
   "source": [
    "### Questions:\n",
    "\n",
    "Now, test out different scenarios to answer the following questions for all 3 movements:\n",
    "* Can the Kalman Filter track the movement of Bob? Is there a better method to track the movement of Bob?\n",
    "* If we have (almost) perfect observations, how is the posterior covariance changing over time?\n",
    "* What is the influence of the initial state and covariance value on the prediction?\n",
    "* What is happening if we have high/low observation noise?\n",
    "* What is happening if we have high/low process noise?\n",
    "* What is happening if we have a high/low observation noise scaling factor?"
   ]
  },
  {
   "cell_type": "markdown",
   "metadata": {},
   "source": [
    "### Optional:\n",
    "\n",
    "One of the movement cannot be tracked by the Kalman Filter. Which other object tracking algorithm could you use there?  \n",
    "How does our transition and mesurement model change?  \n",
    "Can you implement it?  \n",
    "What information do you need to add to get it working?"
   ]
  }
 ],
 "metadata": {
  "kernelspec": {
   "display_name": "venv",
   "language": "python",
   "name": "python3"
  },
  "language_info": {
   "codemirror_mode": {
    "name": "ipython",
    "version": 3
   },
   "file_extension": ".py",
   "mimetype": "text/x-python",
   "name": "python",
   "nbconvert_exporter": "python",
   "pygments_lexer": "ipython3",
   "version": "3.12.7"
  }
 },
 "nbformat": 4,
 "nbformat_minor": 2
}
