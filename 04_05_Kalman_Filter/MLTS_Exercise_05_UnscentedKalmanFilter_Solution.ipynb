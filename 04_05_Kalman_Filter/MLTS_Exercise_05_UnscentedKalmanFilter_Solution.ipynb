{
 "cells": [
  {
   "cell_type": "markdown",
   "metadata": {},
   "source": [
    "<h1>MLTS Exercise 05 - Unscented Kalman Filter</h1>\n",
    "\n",
    "This is an optional part of the 5th exercise, where the task is to implement an Unscented Kalman Filter."
   ]
  },
  {
   "cell_type": "markdown",
   "metadata": {},
   "source": [
    "## Welcome to Pixel-World\n",
    "\n",
    "This is Bob.  \n",
    "\n",
    "<img src=\"./utils/Bob.png\" alt=\"Map\" width=\"100\"/>\n",
    "\n",
    "Bob is on an adventure and traveling through Pixel-World to find and collect small monsters. As he does not want to get lost on his way, he takes his GPS device with him. Unfortunately, the device can sometimes be unreliable and shows him the wrong position. Therefore he needs an object tracking application which can predict the real path he is taking.  \n",
    "\n",
    "Your goal is to implement this application and help Bob traverse the following area:  \n",
    " \n",
    "<img src=\"./utils/Map.png\" alt=\"Map\" width=\"500\"/>\n",
    "\n",
    "The images of this exercie were generated with: [Pokemon Styl Map Generator](https://screensmith.itch.io/pokemon-style-map-generator)"
   ]
  },
  {
   "cell_type": "markdown",
   "metadata": {},
   "source": [
    "First, lets start with some imports. "
   ]
  },
  {
   "cell_type": "code",
   "execution_count": null,
   "metadata": {},
   "outputs": [],
   "source": [
    "%load_ext autoreload\n",
    "%autoreload 2\n",
    "\n",
    "# import packages\n",
    "import numpy as np\n",
    "import matplotlib.pyplot as plt\n",
    "from filterpy import kalman"
   ]
  },
  {
   "cell_type": "code",
   "execution_count": null,
   "metadata": {},
   "outputs": [],
   "source": [
    "# import helper functions\n",
    "from utils.helpers import setup_animations\n",
    "from utils.functions import create_movement"
   ]
  },
  {
   "cell_type": "markdown",
   "metadata": {},
   "source": [
    "To have an interactive display of your results, run this cell."
   ]
  },
  {
   "cell_type": "code",
   "execution_count": null,
   "metadata": {},
   "outputs": [],
   "source": [
    "# set display parameters\n",
    "plt.rcParams[\"animation.html\"] = \"jshtml\"\n",
    "plt.rcParams['figure.dpi'] = 150\n",
    "plt.rcParams['animation.embed_limit'] = 200\n",
    "plt.ioff()\n",
    "pass"
   ]
  },
  {
   "cell_type": "markdown",
   "metadata": {},
   "source": [
    "## Task: Implement an Unscented Kalman Filter"
   ]
  },
  {
   "cell_type": "markdown",
   "metadata": {},
   "source": [
    "To implement the Unscented Kalman Filter, we will be utilizing a package called [`FilterPy`](https://filterpy.readthedocs.io/en/latest/).  \n",
    "\n",
    "In FilterPy, you have to first set the initial state and covariance, then the process and measurement noise as well as the state and measurement transition matrices. Then you need to do the recursive steps on the given observations as seen in the lecture or exercise slides. Utilize the predefined function below."
   ]
  },
  {
   "cell_type": "code",
   "execution_count": null,
   "metadata": {},
   "outputs": [],
   "source": [
    "def state_transition(state: np.ndarray, dt: int, turn_command: int) -> np.ndarray:\n",
    "    \"\"\"State transition function.\n",
    "\n",
    "    Args:\n",
    "        state (np.ndarray): Previous State z_n-1\n",
    "        dt (int): Sampling step\n",
    "        turn_command (int): Turn command (0, 1, -1)\n",
    "\n",
    "    Returns:\n",
    "        np.ndarray: Next State z_n\n",
    "    \"\"\"\n",
    "    x, y, vx, vy = state\n",
    "\n",
    "    # Apply the turn command\n",
    "    if turn_command == 1:  # Turn right (90° clockwise)\n",
    "        vx, vy = vy, -vx\n",
    "    elif turn_command == -1:  # Turn left (90° counterclockwise)\n",
    "        vx, vy = -vy, vx\n",
    "\n",
    "    # Update position based on (possibly modified) velocity\n",
    "    x += vx * dt\n",
    "    y += vy * dt\n",
    "\n",
    "    return np.array([x, y, vx, vy])"
   ]
  },
  {
   "cell_type": "code",
   "execution_count": null,
   "metadata": {},
   "outputs": [],
   "source": [
    "def unscented_kalman_filter(zs: np.ndarray, turn_command: np.ndarray, dt: int, Q: np.ndarray, R: np.ndarray, initMu: np.ndarray, initCov: np.ndarray) -> tuple[np.ndarray, np.ndarray]:\n",
    "    \"\"\"Unscented Kalman Filter for a simplified process.\n",
    "\n",
    "    Args:\n",
    "        zs (np.ndarray): observations rowise\n",
    "        turn_command (np.ndarray): contains the turn command by Bob\n",
    "        dt (int): Delta time.\n",
    "        Q (np.ndarray): process noise covariance matrix\n",
    "        R (np.ndarray): measurement noise covariance matrix\n",
    "        initMu (np.ndarray): initial estimate of a posteriori expectation\n",
    "        initCov (np.ndarray): initial estimate of a posteriori covariance matrix\n",
    "\n",
    "    Returns:\n",
    "        (np.ndarray,np.ndarray): posteriori predictions, posteriori error covs\n",
    "    \"\"\"\n",
    "\n",
    "    # get the correct shapes\n",
    "    numObservations = zs.shape[0]\n",
    "    dim_state = Q.shape[0]  # shape of state (position x and y, velocity x and y)\n",
    "    dim_obs = zs.shape[1]  # shape of observations\n",
    "\n",
    "    # Define arrays to store posteriors\n",
    "    posterioriPred = np.empty((numObservations, dim_state))\n",
    "    posterioriErrorCov = np.empty((numObservations, dim_state, dim_state))\n",
    "\n",
    "    # Create sigma points for UKF\n",
    "    points = kalman.MerweScaledSigmaPoints(n=dim_state, alpha=0.1, beta=2.0, kappa=0)\n",
    "\n",
    "    # Initialize UKF\n",
    "    ukf = kalman.UnscentedKalmanFilter(dim_x=dim_state, dim_z=dim_obs, dt=dt,\n",
    "                                       fx=state_transition,\n",
    "                                       hx=lambda x: x[:2], points=points)\n",
    "\n",
    "    # Initial state estimate and covariance\n",
    "    ukf.x = initMu  # Initial state (position, velocity)\n",
    "    ukf.P = initCov  # Initial covariance (uncertainty in the state)\n",
    "\n",
    "    # Set matrices\n",
    "    ukf.Q = Q  # Process noise covariance\n",
    "    ukf.R = R  # Measurement noise covariance\n",
    "\n",
    "    # go through observations\n",
    "    for k in range(numObservations):\n",
    "\n",
    "        # Predict the next state based on the state transition matrix\n",
    "        ukf.predict(fx=state_transition, turn_command=turn_command[k])\n",
    "\n",
    "        # Update the state estimate with the new observation\n",
    "        ukf.update(zs[k])\n",
    "\n",
    "        # store the posteriors\n",
    "        posterioriPred[k] = ukf.x\n",
    "        posterioriErrorCov[k] = ukf.P\n",
    "\n",
    "    return posterioriPred, posterioriErrorCov"
   ]
  },
  {
   "cell_type": "markdown",
   "metadata": {},
   "source": [
    "## Test your object tracking application\n",
    "\n",
    "To test if your implemented object tracking application (i.e. Kalman Filter), we let Bob walk through the shown area, starting from various postions and taking different paths. We can also adjust the measurements of the GPS device with different levels of noise.\n",
    "\n",
    "Let's start with some general fixed parameters:"
   ]
  },
  {
   "cell_type": "code",
   "execution_count": null,
   "metadata": {},
   "outputs": [],
   "source": [
    "# set parameters\n",
    "config = {\n",
    "    'numMeasurements': 21,  # number of measurements over the distance\n",
    "    'distanceStartEnd': 21,  # distance tracking object travels\n",
    "    'msPerTimestep': 500,  # Number of ms per timestep\n",
    "    'seed': 1234  # Random seed\n",
    "}"
   ]
  },
  {
   "cell_type": "markdown",
   "metadata": {},
   "source": [
    "These parameters define the ground truth movement and the observations the model will see.  \n",
    "You should play around with those values and test out different combinations."
   ]
  },
  {
   "cell_type": "code",
   "execution_count": null,
   "metadata": {},
   "outputs": [],
   "source": [
    "config = {\n",
    "    **config,\n",
    "    'model': 'movement_3',  # Movement model. Can be [movement_1, movement_2, movement_3]\n",
    "    'varObservations': 0.5,  # Variance in x and y direction. Possible values [0.01, 0.001, 0.0001]\n",
    "    'processNoiseScaling': 0.0  # Scaling for process noise model in filter. Possible values [0.01, 0.001, 0.0001]\n",
    "}"
   ]
  },
  {
   "cell_type": "markdown",
   "metadata": {},
   "source": [
    "Next, here are some parameters that influence your results and your model. Choose these values wisely:"
   ]
  },
  {
   "cell_type": "code",
   "execution_count": null,
   "metadata": {},
   "outputs": [],
   "source": [
    "config = {\n",
    "    **config,\n",
    "    'observationNoiseScaling': 5,  # Scaling for observation noise model in filter.\n",
    "    'initMu': np.array([9, 4, 1, 1]),  # Initial value for state (prior)\n",
    "    'initCov': np.eye(4) * 1,  # Initial value for covariance (prior)\n",
    "}"
   ]
  },
  {
   "cell_type": "markdown",
   "metadata": {},
   "source": [
    "Now, we set up the function for plotting Bobs movement. `data_for_plotting` take the configs defined above, generates the movement of Bob and then runs the object tracking algorithm you implemented.  \n",
    "\n",
    "<b>Be carefull that you correctly set up and pass the right parameters for the object tracking functions!</b>"
   ]
  },
  {
   "cell_type": "code",
   "execution_count": null,
   "metadata": {},
   "outputs": [],
   "source": [
    "def data_for_plotting(parameters: dict) -> tuple[np.ndarray, np.ndarray, np.ndarray]:\n",
    "    \"\"\"Generate the data, predict the movement and plot it.\n",
    "\n",
    "    Args:\n",
    "        parameters (dict): Parameters.\n",
    "\n",
    "    Returns:\n",
    "        tuple[np.ndarray, np.ndarray, np.ndarray]: Result of the filter algorithm, ground truth movement, observations of the movement.\n",
    "    \"\"\"\n",
    "    # set up everything\n",
    "    np.random.seed(parameters['seed'])\n",
    "    samplingPeriod = parameters['distanceStartEnd'] / parameters['numMeasurements']\n",
    "\n",
    "    # sample some observations and ground truth movement\n",
    "    observation, referenceCurve = create_movement(parameters['model'], parameters['numMeasurements'],\n",
    "                                                  samplingPeriod, parameters['varObservations'], parameters['processNoiseScaling'])\n",
    "\n",
    "    # initialize the measurement and process noise matrices\n",
    "    Q = parameters['processNoiseScaling'] * np.eye(4)\n",
    "    R = parameters['observationNoiseScaling'] * np.eye(2)\n",
    "\n",
    "    # create turn commands by Bob\n",
    "    turn_command = np.zeros(observation.shape[0])\n",
    "    turn_command[11] = 1\n",
    "\n",
    "    # this is the uncented kalman filter\n",
    "    res = unscented_kalman_filter(observation, turn_command, samplingPeriod, Q, R, parameters['initMu'], parameters['initCov'])\n",
    "\n",
    "    return res, referenceCurve, observation"
   ]
  },
  {
   "cell_type": "markdown",
   "metadata": {},
   "source": [
    "### Run Bob, Run!\n",
    "\n",
    "We will now animate the movement of Bob. The following graph shows his x and y positions over time. The black line is his true movement while the green dots are the observations by the GPS device.  \n",
    "In red you see the predictions of your tracking algorithm with the uncertainty as a circle around it. Use the buttons below to start and stop the animation."
   ]
  },
  {
   "cell_type": "code",
   "execution_count": null,
   "metadata": {},
   "outputs": [],
   "source": [
    "aniFiltered = setup_animations(data_for_plotting(config), config)\n",
    "plt.close('all')\n",
    "aniFiltered"
   ]
  },
  {
   "cell_type": "markdown",
   "metadata": {},
   "source": [
    "### Questions:\n",
    "\n",
    "One of the movement cannot be tracked by the Kalman Filter. Which other object tracking algorithm could you use there?  \n",
    "How does our transition and mesurement model change?  \n",
    "Can you implement it?  \n",
    "What information do you need to add to get it working?"
   ]
  }
 ],
 "metadata": {
  "kernelspec": {
   "display_name": "venv",
   "language": "python",
   "name": "python3"
  },
  "language_info": {
   "codemirror_mode": {
    "name": "ipython",
    "version": 3
   },
   "file_extension": ".py",
   "mimetype": "text/x-python",
   "name": "python",
   "nbconvert_exporter": "python",
   "pygments_lexer": "ipython3",
   "version": "3.12.7"
  }
 },
 "nbformat": 4,
 "nbformat_minor": 2
}
