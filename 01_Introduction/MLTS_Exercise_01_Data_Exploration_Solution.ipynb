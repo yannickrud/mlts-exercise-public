{
 "cells": [
  {
   "cell_type": "markdown",
   "metadata": {},
   "source": [
    "<h1>MLTS Exercise 01 - Data Exploration</h1>"
   ]
  },
  {
   "cell_type": "markdown",
   "metadata": {},
   "source": [
    "### Task:\n",
    "\n",
    "This notebook provides three time series datasets, each representing daily user counts for separate applications over the year 2020:\n",
    "* `App_1_Users_2020.csv`\n",
    "* `App_2_Users_2020.csv`\n",
    "* `App_3_Users_2020.csv`\n",
    "\n",
    "For each dataset, complete the following tasks:\n",
    "\n",
    "* Load the dataset.\n",
    "* Visualize the data to observe user trends over time.\n",
    "* Examine the data for any notable characteristics.\n",
    "* Split the data into training and test sets, with the test set comprising the final three months of 2020.\n",
    "\n",
    "In subsequent Exercises 02 and 03, these datasets will be utilized to perform Bayesian Linear Regression analysis."
   ]
  },
  {
   "cell_type": "code",
   "execution_count": null,
   "metadata": {},
   "outputs": [],
   "source": [
    "# import packages\n",
    "import os\n",
    "import pandas as pd\n",
    "import matplotlib.pyplot as plt"
   ]
  },
  {
   "cell_type": "markdown",
   "metadata": {},
   "source": [
    "Load the dataset"
   ]
  },
  {
   "cell_type": "code",
   "execution_count": null,
   "metadata": {},
   "outputs": [],
   "source": [
    "# paths to data\n",
    "base_path = '../00_Datasets/01-03_App_Datasets'\n",
    "path = 'App_1_Users_2020.csv'\n",
    "# path = 'App_2_Users_2020.csv'\n",
    "# path = 'App_3_Users_2020.csv'\n",
    "\n",
    "path = os.path.join(base_path, path)"
   ]
  },
  {
   "cell_type": "code",
   "execution_count": null,
   "metadata": {},
   "outputs": [],
   "source": [
    "# Read data from file\n",
    "data = pd.read_csv(path, sep=';', index_col='date')\n",
    "data.index = pd.to_datetime(data.index)\n",
    "data.head()"
   ]
  },
  {
   "cell_type": "markdown",
   "metadata": {},
   "source": [
    "Visualize the data to observe user trends over time"
   ]
  },
  {
   "cell_type": "code",
   "execution_count": null,
   "metadata": {},
   "outputs": [],
   "source": [
    "# Plot data\n",
    "fig, ax = plt.subplots()\n",
    "ax = data[\"users\"].plot()\n",
    "ax.set_xlabel('Date')\n",
    "ax.set_ylabel('Users')\n",
    "ax.grid()\n",
    "ax.set_title('Users over Time')\n",
    "\n",
    "plt.show()"
   ]
  },
  {
   "cell_type": "markdown",
   "metadata": {},
   "source": [
    "Examine the data for any notable characteristics"
   ]
  },
  {
   "cell_type": "markdown",
   "metadata": {},
   "source": [
    "* Dataset 1: The number of users exhibits linear growth over time. There is a noticeable change in daily fluctuations starting in early April, with the variability becoming more pronounced.\n",
    "* Dataset 2: The data follows a quadratic trend, where the number of users steadily increases from January, reaching a peak around July and August, followed by a gradual decline from September to December.\n",
    "* Dataset 3: The data aligns with a cubic function. User numbers increase and stabilize around 14,000, followed by a slight increase in November and December. A sharp drop to zero in March suggests a potential outage or missing data."
   ]
  },
  {
   "cell_type": "markdown",
   "metadata": {},
   "source": [
    "Split the data into training and test sets, with the test set comprising the final three months of 2020."
   ]
  },
  {
   "cell_type": "code",
   "execution_count": 35,
   "metadata": {},
   "outputs": [],
   "source": [
    "# Split into train and test set\n",
    "split_time = '2020-10-01'\n",
    "train = data[data.index < split_time]\n",
    "test = data[data.index >= split_time]"
   ]
  },
  {
   "cell_type": "code",
   "execution_count": null,
   "metadata": {},
   "outputs": [],
   "source": [
    "# Relative size of test set\n",
    "round((len(test) / len(data)) * 100, 2)"
   ]
  },
  {
   "cell_type": "code",
   "execution_count": null,
   "metadata": {},
   "outputs": [],
   "source": [
    "# Plot train and test set\n",
    "fig, ax = plt.subplots()\n",
    "ax = train[\"users\"].plot(label='train')\n",
    "test[\"users\"].plot(label='test')\n",
    "ax.axvline(split_time, c=\"k\", ls=\":\")\n",
    "ax.set_xlabel('Date')\n",
    "ax.set_ylabel('Users')\n",
    "ax.grid()\n",
    "ax.set_title('Users over Time')\n",
    "\n",
    "plt.legend()\n",
    "plt.show()"
   ]
  }
 ],
 "metadata": {
  "kernelspec": {
   "display_name": "pymc_env",
   "language": "python",
   "name": "python3"
  },
  "language_info": {
   "codemirror_mode": {
    "name": "ipython",
    "version": 3
   },
   "file_extension": ".py",
   "mimetype": "text/x-python",
   "name": "python",
   "nbconvert_exporter": "python",
   "pygments_lexer": "ipython3",
   "version": "3.12.7"
  }
 },
 "nbformat": 4,
 "nbformat_minor": 2
}
